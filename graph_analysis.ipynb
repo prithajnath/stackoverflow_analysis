{
 "cells": [
  {
   "cell_type": "code",
   "execution_count": 7,
   "metadata": {},
   "outputs": [],
   "source": [
    "import pandas_gbq\n",
    "import pandas as pd\n",
    "import numpy as np\n",
    "import seaborn as sns\n",
    "import matplotlib.pyplot as plt\n",
    "import networkx as nx\n",
    "\n",
    "\n",
    "project_name = \"social-computing-436902\"\n",
    "dataset_name = \"stackexchange\"\n",
    "colors = plt.get_cmap('plasma').colors\n",
    "quoted_table_name = lambda table_name:f\"`{project_name}`.`{dataset_name}`.`{table_name}`\"\n",
    "\n"
   ]
  },
  {
   "cell_type": "code",
   "execution_count": 4,
   "metadata": {},
   "outputs": [
    {
     "name": "stderr",
     "output_type": "stream",
     "text": [
      "/home/prithaj/.virtualenvs/stackoverflow_analysis-1iOcKwg9/lib/python3.10/site-packages/google/cloud/bigquery/table.py:2379: UserWarning: A progress bar was requested, but there was an error loading the tqdm library. Please install tqdm to use the progress bar functionality.\n",
      "  record_batch = self.to_arrow(\n"
     ]
    }
   ],
   "source": [
    "qa_graph = pandas_gbq.read_gbq(f\"select answer_user_id as s, question_user_id as t from {quoted_table_name('superuser_qa_graph')}\")"
   ]
  },
  {
   "cell_type": "code",
   "execution_count": null,
   "metadata": {},
   "outputs": [],
   "source": [
    "qa_network = nx.from_pandas_edgelist(qa_graph, source=\"s\", target=\"t\")"
   ]
  }
 ],
 "metadata": {
  "kernelspec": {
   "display_name": "stackoverflow_analysis-1iOcKwg9",
   "language": "python",
   "name": "python3"
  },
  "language_info": {
   "codemirror_mode": {
    "name": "ipython",
    "version": 3
   },
   "file_extension": ".py",
   "mimetype": "text/x-python",
   "name": "python",
   "nbconvert_exporter": "python",
   "pygments_lexer": "ipython3",
   "version": "3.10.12"
  }
 },
 "nbformat": 4,
 "nbformat_minor": 2
}
