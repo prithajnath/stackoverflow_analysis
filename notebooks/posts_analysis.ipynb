{
 "cells": [
  {
   "cell_type": "code",
   "execution_count": 14,
   "metadata": {},
   "outputs": [],
   "source": [
    "import pandas as pd\n",
    "import numpy as np\n",
    "\n",
    "import matplotlib.pyplot as plt\n",
    "import matplotlib.ticker as mticker\n",
    "from scipy import stats\n",
    "\n",
    "pd.set_option(\"display.width\", 500)\n",
    "pd.set_option(\"display.max_columns\", 100)\n",
    "\n",
    "import os\n",
    "os.makedirs(\"../plots/posts\", exist_ok=True)"
   ]
  },
  {
   "cell_type": "code",
   "execution_count": 5,
   "metadata": {},
   "outputs": [
    {
     "name": "stdout",
     "output_type": "stream",
     "text": [
      "       AcceptedAnswerId   AnswerCount   CommentCount  FavoriteCount             Id  LastEditorUserId   OwnerUserId      ParentId     PostTypeId         Score     ViewCount\n",
      "count      1.547800e+04  19584.000000  100000.000000   13431.000000  100000.000000      3.734100e+04  9.577200e+04  8.041600e+04  100000.000000  100000.00000  1.958400e+04\n",
      "mean       4.164653e+05      6.657118       0.865430       0.016976   92101.616420      1.000108e+06  4.466668e+04  8.886101e+04       1.804160      27.21950  5.029548e+04\n",
      "std        2.846420e+06      7.789822       2.080746       1.941515   52936.375435      2.280316e+06  2.684110e+05  1.020035e+05       0.396848     207.47704  2.097155e+05\n",
      "min        7.000000e+00      0.000000       0.000000       0.000000       4.000000     -1.000000e+00  1.000000e+00  4.000000e+00       1.000000     -48.00000  7.200000e+01\n",
      "25%        4.897225e+04      3.000000       0.000000       0.000000   48207.750000      2.688000e+03  1.816000e+03  4.312600e+04       2.000000       1.00000  1.674000e+03\n",
      "50%        9.802300e+04      5.000000       0.000000       0.000000   89181.500000      1.941700e+04  5.409000e+03  8.420200e+04       2.000000       3.00000  5.275500e+03\n",
      "75%        1.496310e+05      8.000000       1.000000       0.000000  133335.250000      8.396010e+05  1.337600e+04  1.276870e+05       2.000000       8.00000  2.130100e+04\n",
      "max        6.875366e+07    296.000000      75.000000     225.000000  203110.000000      2.245846e+07  5.696608e+06  7.101992e+06       2.000000   18566.00000  5.441979e+06\n",
      "   AcceptedAnswerId  AnswerCount                                               Body ClosedDate  CommentCount       CommunityOwnedDate ContentLicense             CreationDate  FavoriteCount     Id         LastActivityDate             LastEditDate LastEditorDisplayName  LastEditorUserId OwnerDisplayName  OwnerUserId  ParentId  PostTypeId  Score                                    Tags                                             Title  ViewCount\n",
      "0           40472.0          2.0  <p>I have a wcf application hosted in a window...        NaN             0                      NaN   CC BY-SA 2.5  2008-09-02T03:41:06.880            0.0  38779  2013-06-24T17:03:55.833  2008-09-02T08:49:19.323            John Nolan            1116.0          Esteban        781.0       NaN           1      6                      |wcf|security|spn|  What SPN do I need to set for a net.tcp service?     6282.0\n",
      "1               NaN          NaN  <p>Agda 2: Functional, dependently typed.</p>\\...        NaN             0  2008-09-19T07:14:59.840   CC BY-SA 2.5  2008-09-02T03:44:26.013            NaN  38781  2008-09-18T22:09:07.470  2008-09-18T22:09:07.470             Apocalisp            3434.0              NaN       3434.0   23930.0           2      3                                     NaN                                               NaN        NaN\n",
      "2           41285.0          8.0  <p>I use <strong>Delphi</strong> for many year...        NaN             1                      NaN   CC BY-SA 3.0  2008-09-02T03:49:17.920            0.0  38784  2021-11-25T10:14:44.487  2015-06-27T14:21:16.453                   NaN         4779472.0              NaN       4149.0       NaN           1      7  |visual-studio|delphi|brief-bookmarks|      Visual Studio equivalent to Delphi bookmarks     3474.0\n",
      "3               NaN          NaN  <p><kbd>Ctrl</kbd> <kbd>K</kbd> + <kbd>Ctrl</k...        NaN             1                      NaN   CC BY-SA 4.0  2008-09-02T03:54:14.587            NaN  38785  2021-06-15T02:11:14.180  2021-06-15T02:11:14.180                   NaN         9454010.0          Vaibhav        380.0   38784.0           2      4                                     NaN                                               NaN        NaN\n",
      "4               NaN          NaN  <p>MPP does have its own object model that can...        NaN             0                      NaN   CC BY-SA 2.5  2008-09-02T03:58:41.830            NaN  38787  2008-09-02T03:58:41.830                      NaN                   NaN               NaN          Vaibhav        380.0   38769.0           2      3                                     NaN                                               NaN        NaN\n"
     ]
    }
   ],
   "source": [
    "# read the first 10000 rows of the data\n",
    "posts = pd.read_csv(\"../data/Posts.csv\", nrows=100000, delimiter='\\x17')\n",
    "print(posts.describe())\n",
    "print(posts.head())"
   ]
  },
  {
   "cell_type": "code",
   "execution_count": 15,
   "metadata": {},
   "outputs": [],
   "source": [
    "# for each numerical column, plot a histogram\n",
    "for column in posts.select_dtypes(include=[np.number]).columns:\n",
    "    plt.hist(posts[column].dropna(), bins=20)\n",
    "    plt.title(column)\n",
    "    plt.semilogy()\n",
    "    plt.savefig(f\"../plots/posts/{column}.png\")\n",
    "    plt.close()"
   ]
  },
  {
   "cell_type": "code",
   "execution_count": 21,
   "metadata": {},
   "outputs": [],
   "source": [
    "# plotting a score histogram for posttypeid 1 and 2\n",
    "# bins from 0 to 20000, 20 bins\n",
    "bins = np.linspace(0, 20000, 20)\n",
    "plt.hist(posts[posts.PostTypeId == 1].Score, bins=bins, alpha=0.5, label=\"Question\")\n",
    "plt.hist(posts[posts.PostTypeId == 2].Score, bins=bins, alpha=0.5, label=\"Answer\")\n",
    "plt.legend()\n",
    "plt.semilogy()\n",
    "plt.savefig(\"../plots/posts/score_PostTypeId.png\")\n",
    "plt.close()"
   ]
  },
  {
   "cell_type": "code",
   "execution_count": 22,
   "metadata": {},
   "outputs": [
    {
     "name": "stderr",
     "output_type": "stream",
     "text": [
      "C:\\Users\\gian\\AppData\\Roaming\\Python\\Python310\\site-packages\\matplotlib\\axes\\_axes.py:6611: RuntimeWarning: All-NaN slice encountered\n",
      "  xmin = min(xmin, np.nanmin(xi))\n",
      "C:\\Users\\gian\\AppData\\Roaming\\Python\\Python310\\site-packages\\matplotlib\\axes\\_axes.py:6612: RuntimeWarning: All-NaN slice encountered\n",
      "  xmax = max(xmax, np.nanmax(xi))\n"
     ]
    }
   ],
   "source": [
    "# plotting view count histogram for posttypeid 1 and 2\n",
    "# bins from 0 to 5,500,000, 20 bins\n",
    "bins = np.linspace(0, 5_500_000, 20)\n",
    "plt.hist(posts[posts.PostTypeId == 1].ViewCount, bins=bins, alpha=0.5, label=\"Question\")\n",
    "plt.hist(posts[posts.PostTypeId == 2].ViewCount, bins=bins, alpha=0.5, label=\"Answer\")\n",
    "plt.legend()\n",
    "plt.semilogy()\n",
    "plt.savefig(\"../plots/posts/viewcount_PostTypeId.png\")\n",
    "plt.close()"
   ]
  }
 ],
 "metadata": {
  "kernelspec": {
   "display_name": "fall24",
   "language": "python",
   "name": "python3"
  },
  "language_info": {
   "codemirror_mode": {
    "name": "ipython",
    "version": 3
   },
   "file_extension": ".py",
   "mimetype": "text/x-python",
   "name": "python",
   "nbconvert_exporter": "python",
   "pygments_lexer": "ipython3",
   "version": "3.10.14"
  }
 },
 "nbformat": 4,
 "nbformat_minor": 2
}
