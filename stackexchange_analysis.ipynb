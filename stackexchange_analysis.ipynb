{
 "cells": [
  {
   "cell_type": "code",
   "execution_count": 4,
   "metadata": {},
   "outputs": [],
   "source": [
    "import bigframes.pandas as bpd"
   ]
  },
  {
   "cell_type": "code",
   "execution_count": 5,
   "metadata": {},
   "outputs": [
    {
     "name": "stderr",
     "output_type": "stream",
     "text": [
      "/home/prithaj/.virtualenvs/stackoverflow_analysis-1iOcKwg9/lib/python3.10/site-packages/IPython/core/interactiveshell.py:3577: UserWarning: Reading cached table from 2024-10-10 03:58:00.047060+00:00 to avoid incompatibilies with previous reads of this table. To read the latest version, set `use_cache=False` or close the current session with Session.close() or bigframes.pandas.close_session().\n",
      "  exec(code_obj, self.user_global_ns, self.user_ns)\n"
     ]
    }
   ],
   "source": [
    "bpd.options.bigquery.project = \"social-computing-436902\"\n",
    "bpd.options.bigquery.location = \"US\"\n",
    "\n",
    "# tables\n",
    "posts_table = \"stackexchange.stackoverflow_posts\"\n",
    "df = bpd.read_gbq(posts_table)"
   ]
  },
  {
   "cell_type": "code",
   "execution_count": 3,
   "metadata": {},
   "outputs": [
    {
     "data": {
      "text/html": [
       "Query job 61d9867b-9e4c-492c-8bdb-aac49fbbd00a is DONE. 9.8 GB processed. <a target=\"_blank\" href=\"https://console.cloud.google.com/bigquery?project=social-computing-436902&j=bq:US:61d9867b-9e4c-492c-8bdb-aac49fbbd00a&page=queryresults\">Open Job</a>"
      ],
      "text/plain": [
       "<IPython.core.display.HTML object>"
      ]
     },
     "metadata": {},
     "output_type": "display_data"
    },
    {
     "data": {
      "text/html": [
       "Query job 27562b42-f437-4a91-8982-07b929f5d841 is DONE. 3.4 kB processed. <a target=\"_blank\" href=\"https://console.cloud.google.com/bigquery?project=social-computing-436902&j=bq:US:27562b42-f437-4a91-8982-07b929f5d841&page=queryresults\">Open Job</a>"
      ],
      "text/plain": [
       "<IPython.core.display.HTML object>"
      ]
     },
     "metadata": {},
     "output_type": "display_data"
    },
    {
     "data": {
      "text/html": [
       "Query job 72d937bc-a285-4133-bfd1-407e61c2344c is DONE. 3.4 kB processed. <a target=\"_blank\" href=\"https://console.cloud.google.com/bigquery?project=social-computing-436902&j=bq:US:72d937bc-a285-4133-bfd1-407e61c2344c&page=queryresults\">Open Job</a>"
      ],
      "text/plain": [
       "<IPython.core.display.HTML object>"
      ]
     },
     "metadata": {},
     "output_type": "display_data"
    },
    {
     "data": {
      "text/html": [
       "<div>\n",
       "<style scoped>\n",
       "    .dataframe tbody tr th:only-of-type {\n",
       "        vertical-align: middle;\n",
       "    }\n",
       "\n",
       "    .dataframe tbody tr th {\n",
       "        vertical-align: top;\n",
       "    }\n",
       "\n",
       "    .dataframe thead th {\n",
       "        text-align: right;\n",
       "    }\n",
       "</style>\n",
       "<table border=\"1\" class=\"dataframe\">\n",
       "  <thead>\n",
       "    <tr style=\"text-align: right;\">\n",
       "      <th></th>\n",
       "      <th>Id</th>\n",
       "      <th>PostTypeId</th>\n",
       "      <th>AcceptedAnswerId</th>\n",
       "      <th>CreationDate</th>\n",
       "      <th>Score</th>\n",
       "      <th>ViewCount</th>\n",
       "      <th>Body</th>\n",
       "      <th>OwnerUserId</th>\n",
       "      <th>OwnerDisplayName</th>\n",
       "      <th>LastEditorUserId</th>\n",
       "      <th>...</th>\n",
       "      <th>LastActivityDate</th>\n",
       "      <th>Title</th>\n",
       "      <th>Tags</th>\n",
       "      <th>AnswerCount</th>\n",
       "      <th>CommentCount</th>\n",
       "      <th>FavoriteCount</th>\n",
       "      <th>ContentLicense</th>\n",
       "      <th>ParentId</th>\n",
       "      <th>CommunityOwnedDate</th>\n",
       "      <th>ClosedDate</th>\n",
       "    </tr>\n",
       "  </thead>\n",
       "  <tbody>\n",
       "    <tr>\n",
       "      <th>0</th>\n",
       "      <td>3646651</td>\n",
       "      <td>1</td>\n",
       "      <td>0</td>\n",
       "      <td>2010-09-05 15:49:20.450000</td>\n",
       "      <td>2</td>\n",
       "      <td>715</td>\n",
       "      <td>&lt;p&gt;I was reading a book and it talks about a &lt;...</td>\n",
       "      <td>325418</td>\n",
       "      <td>&lt;NA&gt;</td>\n",
       "      <td>325418</td>\n",
       "      <td>...</td>\n",
       "      <td>2010-09-05 18:24:22.597000</td>\n",
       "      <td>In RDBMS, when a relation is one-to-one, does ...</td>\n",
       "      <td>|sql|ruby-on-rails|rdbms|relational-database|o...</td>\n",
       "      <td>4</td>\n",
       "      <td>0</td>\n",
       "      <td>0</td>\n",
       "      <td>CC BY-SA 2.5</td>\n",
       "      <td>0</td>\n",
       "      <td>&lt;NA&gt;</td>\n",
       "      <td>&lt;NA&gt;</td>\n",
       "    </tr>\n",
       "    <tr>\n",
       "      <th>1</th>\n",
       "      <td>9899171</td>\n",
       "      <td>2</td>\n",
       "      <td>0</td>\n",
       "      <td>2012-03-27 23:30:50.783000</td>\n",
       "      <td>1</td>\n",
       "      <td>0</td>\n",
       "      <td>&lt;p&gt;If you need to add the jdk to your system p...</td>\n",
       "      <td>1219955</td>\n",
       "      <td>&lt;NA&gt;</td>\n",
       "      <td>0</td>\n",
       "      <td>...</td>\n",
       "      <td>2012-03-27 23:30:50.783000</td>\n",
       "      <td>&lt;NA&gt;</td>\n",
       "      <td>&lt;NA&gt;</td>\n",
       "      <td>0</td>\n",
       "      <td>2</td>\n",
       "      <td>0</td>\n",
       "      <td>CC BY-SA 3.0</td>\n",
       "      <td>9899100</td>\n",
       "      <td>&lt;NA&gt;</td>\n",
       "      <td>&lt;NA&gt;</td>\n",
       "    </tr>\n",
       "    <tr>\n",
       "      <th>2</th>\n",
       "      <td>12118199</td>\n",
       "      <td>2</td>\n",
       "      <td>0</td>\n",
       "      <td>2012-08-25 00:26:01.870000</td>\n",
       "      <td>0</td>\n",
       "      <td>0</td>\n",
       "      <td>&lt;p&gt;Couple of thing to watch out for: &lt;/p&gt;\\n\\n&lt;...</td>\n",
       "      <td>1171790</td>\n",
       "      <td>&lt;NA&gt;</td>\n",
       "      <td>0</td>\n",
       "      <td>...</td>\n",
       "      <td>2012-08-25 00:26:01.870000</td>\n",
       "      <td>&lt;NA&gt;</td>\n",
       "      <td>&lt;NA&gt;</td>\n",
       "      <td>0</td>\n",
       "      <td>3</td>\n",
       "      <td>0</td>\n",
       "      <td>CC BY-SA 3.0</td>\n",
       "      <td>12118134</td>\n",
       "      <td>&lt;NA&gt;</td>\n",
       "      <td>&lt;NA&gt;</td>\n",
       "    </tr>\n",
       "    <tr>\n",
       "      <th>3</th>\n",
       "      <td>4947000</td>\n",
       "      <td>2</td>\n",
       "      <td>0</td>\n",
       "      <td>2011-02-09 15:35:48.047000</td>\n",
       "      <td>4</td>\n",
       "      <td>0</td>\n",
       "      <td>&lt;p&gt;If using &lt;code&gt;java.net.HttpURLConnection&lt;/...</td>\n",
       "      <td>96224</td>\n",
       "      <td>&lt;NA&gt;</td>\n",
       "      <td>0</td>\n",
       "      <td>...</td>\n",
       "      <td>2011-02-09 15:35:48.047000</td>\n",
       "      <td>&lt;NA&gt;</td>\n",
       "      <td>&lt;NA&gt;</td>\n",
       "      <td>0</td>\n",
       "      <td>0</td>\n",
       "      <td>0</td>\n",
       "      <td>CC BY-SA 2.5</td>\n",
       "      <td>4946598</td>\n",
       "      <td>&lt;NA&gt;</td>\n",
       "      <td>&lt;NA&gt;</td>\n",
       "    </tr>\n",
       "    <tr>\n",
       "      <th>4</th>\n",
       "      <td>381940</td>\n",
       "      <td>2</td>\n",
       "      <td>0</td>\n",
       "      <td>2008-12-19 19:24:12.903000</td>\n",
       "      <td>-1</td>\n",
       "      <td>0</td>\n",
       "      <td>&lt;p&gt;It looks to me like it is a problem with ho...</td>\n",
       "      <td>14101</td>\n",
       "      <td>skbergam</td>\n",
       "      <td>0</td>\n",
       "      <td>...</td>\n",
       "      <td>2008-12-19 19:24:12.903000</td>\n",
       "      <td>&lt;NA&gt;</td>\n",
       "      <td>&lt;NA&gt;</td>\n",
       "      <td>0</td>\n",
       "      <td>0</td>\n",
       "      <td>0</td>\n",
       "      <td>CC BY-SA 2.5</td>\n",
       "      <td>381918</td>\n",
       "      <td>&lt;NA&gt;</td>\n",
       "      <td>&lt;NA&gt;</td>\n",
       "    </tr>\n",
       "  </tbody>\n",
       "</table>\n",
       "<p>5 rows × 22 columns</p>\n",
       "</div>[5 rows x 22 columns in total]"
      ],
      "text/plain": [
       "         Id  PostTypeId  AcceptedAnswerId                CreationDate  Score  \\\n",
       "0   3646651           1                 0  2010-09-05 15:49:20.450000      2   \n",
       "1   9899171           2                 0  2012-03-27 23:30:50.783000      1   \n",
       "2  12118199           2                 0  2012-08-25 00:26:01.870000      0   \n",
       "3   4947000           2                 0  2011-02-09 15:35:48.047000      4   \n",
       "4    381940           2                 0  2008-12-19 19:24:12.903000     -1   \n",
       "\n",
       "   ViewCount                                               Body  OwnerUserId  \\\n",
       "0        715  <p>I was reading a book and it talks about a <...       325418   \n",
       "1          0  <p>If you need to add the jdk to your system p...      1219955   \n",
       "2          0  <p>Couple of thing to watch out for: </p>\\n\\n<...      1171790   \n",
       "3          0  <p>If using <code>java.net.HttpURLConnection</...        96224   \n",
       "4          0  <p>It looks to me like it is a problem with ho...        14101   \n",
       "\n",
       "  OwnerDisplayName  LastEditorUserId  ...            LastActivityDate  \\\n",
       "0             <NA>            325418  ...  2010-09-05 18:24:22.597000   \n",
       "1             <NA>                 0  ...  2012-03-27 23:30:50.783000   \n",
       "2             <NA>                 0  ...  2012-08-25 00:26:01.870000   \n",
       "3             <NA>                 0  ...  2011-02-09 15:35:48.047000   \n",
       "4         skbergam                 0  ...  2008-12-19 19:24:12.903000   \n",
       "\n",
       "                                               Title  \\\n",
       "0  In RDBMS, when a relation is one-to-one, does ...   \n",
       "1                                               <NA>   \n",
       "2                                               <NA>   \n",
       "3                                               <NA>   \n",
       "4                                               <NA>   \n",
       "\n",
       "                                                Tags AnswerCount CommentCount  \\\n",
       "0  |sql|ruby-on-rails|rdbms|relational-database|o...           4            0   \n",
       "1                                               <NA>           0            2   \n",
       "2                                               <NA>           0            3   \n",
       "3                                               <NA>           0            0   \n",
       "4                                               <NA>           0            0   \n",
       "\n",
       "   FavoriteCount  ContentLicense  ParentId CommunityOwnedDate  ClosedDate  \n",
       "0              0    CC BY-SA 2.5         0               <NA>        <NA>  \n",
       "1              0    CC BY-SA 3.0   9899100               <NA>        <NA>  \n",
       "2              0    CC BY-SA 3.0  12118134               <NA>        <NA>  \n",
       "3              0    CC BY-SA 2.5   4946598               <NA>        <NA>  \n",
       "4              0    CC BY-SA 2.5    381918               <NA>        <NA>  \n",
       "\n",
       "[5 rows x 22 columns]"
      ]
     },
     "execution_count": 3,
     "metadata": {},
     "output_type": "execute_result"
    }
   ],
   "source": [
    "df.head()"
   ]
  },
  {
   "cell_type": "code",
   "execution_count": 15,
   "metadata": {},
   "outputs": [
    {
     "data": {
      "text/html": [
       "Query job fb690266-c54b-464c-9429-9efaaf76ebd4 is DONE. 80.4 MB processed. <a target=\"_blank\" href=\"https://console.cloud.google.com/bigquery?project=social-computing-436902&j=bq:US:fb690266-c54b-464c-9429-9efaaf76ebd4&page=queryresults\">Open Job</a>"
      ],
      "text/plain": [
       "<IPython.core.display.HTML object>"
      ]
     },
     "metadata": {},
     "output_type": "display_data"
    },
    {
     "data": {
      "text/plain": [
       "np.float64(6.551359518120272)"
      ]
     },
     "execution_count": 15,
     "metadata": {},
     "output_type": "execute_result"
    }
   ],
   "source": [
    "# mean score of posts\n",
    "df[\"Score\"].mean()"
   ]
  },
  {
   "cell_type": "code",
   "execution_count": 16,
   "metadata": {},
   "outputs": [
    {
     "data": {
      "text/html": [
       "Query job 40be144a-f996-4aa1-814d-34d1ad39b411 is DONE. 93.6 MB processed. <a target=\"_blank\" href=\"https://console.cloud.google.com/bigquery?project=social-computing-436902&j=bq:US:40be144a-f996-4aa1-814d-34d1ad39b411&page=queryresults\">Open Job</a>"
      ],
      "text/plain": [
       "<IPython.core.display.HTML object>"
      ]
     },
     "metadata": {},
     "output_type": "display_data"
    },
    {
     "data": {
      "text/plain": [
       "np.int64(127239)"
      ]
     },
     "execution_count": 16,
     "metadata": {},
     "output_type": "execute_result"
    }
   ],
   "source": [
    "# number of posts with the tag 'python'\n",
    "df[\"Tags\"].str.contains(\"python\").sum()"
   ]
  },
  {
   "cell_type": "code",
   "execution_count": 8,
   "metadata": {},
   "outputs": [
    {
     "data": {
      "text/html": [
       "Query job 00d92ff6-c974-4678-94ac-7eba58c9b063 is DONE. 9.8 GB processed. <a target=\"_blank\" href=\"https://console.cloud.google.com/bigquery?project=social-computing-436902&j=bq:US:00d92ff6-c974-4678-94ac-7eba58c9b063&page=queryresults\">Open Job</a>"
      ],
      "text/plain": [
       "<IPython.core.display.HTML object>"
      ]
     },
     "metadata": {},
     "output_type": "display_data"
    },
    {
     "data": {
      "text/html": [
       "Query job c9c7d7f1-7e8c-4e45-82cc-1835443fe671 is DONE. 10.3 kB processed. <a target=\"_blank\" href=\"https://console.cloud.google.com/bigquery?project=social-computing-436902&j=bq:US:c9c7d7f1-7e8c-4e45-82cc-1835443fe671&page=queryresults\">Open Job</a>"
      ],
      "text/plain": [
       "<IPython.core.display.HTML object>"
      ]
     },
     "metadata": {},
     "output_type": "display_data"
    },
    {
     "data": {
      "text/html": [
       "Query job 467a54e3-e23e-4c67-b08f-680caea1db7a is DONE. 10.3 kB processed. <a target=\"_blank\" href=\"https://console.cloud.google.com/bigquery?project=social-computing-436902&j=bq:US:467a54e3-e23e-4c67-b08f-680caea1db7a&page=queryresults\">Open Job</a>"
      ],
      "text/plain": [
       "<IPython.core.display.HTML object>"
      ]
     },
     "metadata": {},
     "output_type": "display_data"
    },
    {
     "data": {
      "text/html": [
       "<div>\n",
       "<style scoped>\n",
       "    .dataframe tbody tr th:only-of-type {\n",
       "        vertical-align: middle;\n",
       "    }\n",
       "\n",
       "    .dataframe tbody tr th {\n",
       "        vertical-align: top;\n",
       "    }\n",
       "\n",
       "    .dataframe thead th {\n",
       "        text-align: right;\n",
       "    }\n",
       "</style>\n",
       "<table border=\"1\" class=\"dataframe\">\n",
       "  <thead>\n",
       "    <tr style=\"text-align: right;\">\n",
       "      <th></th>\n",
       "      <th>Id</th>\n",
       "      <th>PostTypeId</th>\n",
       "      <th>AcceptedAnswerId</th>\n",
       "      <th>CreationDate</th>\n",
       "      <th>Score</th>\n",
       "      <th>ViewCount</th>\n",
       "      <th>Body</th>\n",
       "      <th>OwnerUserId</th>\n",
       "      <th>OwnerDisplayName</th>\n",
       "      <th>LastEditorUserId</th>\n",
       "      <th>...</th>\n",
       "      <th>LastActivityDate</th>\n",
       "      <th>Title</th>\n",
       "      <th>Tags</th>\n",
       "      <th>AnswerCount</th>\n",
       "      <th>CommentCount</th>\n",
       "      <th>FavoriteCount</th>\n",
       "      <th>ContentLicense</th>\n",
       "      <th>ParentId</th>\n",
       "      <th>CommunityOwnedDate</th>\n",
       "      <th>ClosedDate</th>\n",
       "    </tr>\n",
       "  </thead>\n",
       "  <tbody>\n",
       "    <tr>\n",
       "      <th>9</th>\n",
       "      <td>11545577</td>\n",
       "      <td>1</td>\n",
       "      <td>11550187</td>\n",
       "      <td>2012-07-18 16:03:12.460000</td>\n",
       "      <td>1</td>\n",
       "      <td>1895</td>\n",
       "      <td>&lt;p&gt;When I run ./manage.py, I get the following...</td>\n",
       "      <td>1425711</td>\n",
       "      <td>&lt;NA&gt;</td>\n",
       "      <td>0</td>\n",
       "      <td>...</td>\n",
       "      <td>2012-07-18 20:54:41.497000</td>\n",
       "      <td>Python path setting error with manage.py</td>\n",
       "      <td>|python|django|</td>\n",
       "      <td>1</td>\n",
       "      <td>6</td>\n",
       "      <td>0</td>\n",
       "      <td>CC BY-SA 3.0</td>\n",
       "      <td>0</td>\n",
       "      <td>&lt;NA&gt;</td>\n",
       "      <td>&lt;NA&gt;</td>\n",
       "    </tr>\n",
       "    <tr>\n",
       "      <th>23</th>\n",
       "      <td>11617619</td>\n",
       "      <td>1</td>\n",
       "      <td>0</td>\n",
       "      <td>2012-07-23 17:40:39.190000</td>\n",
       "      <td>18</td>\n",
       "      <td>5840</td>\n",
       "      <td>&lt;p&gt;I'm writing an app in Python and I need to ...</td>\n",
       "      <td>595990</td>\n",
       "      <td>&lt;NA&gt;</td>\n",
       "      <td>2073595</td>\n",
       "      <td>...</td>\n",
       "      <td>2014-07-24 14:59:28.143000</td>\n",
       "      <td>What are the advantages of concurrent.futures ...</td>\n",
       "      <td>|python|multithreading|multiprocessing|concurr...</td>\n",
       "      <td>1</td>\n",
       "      <td>1</td>\n",
       "      <td>0</td>\n",
       "      <td>CC BY-SA 3.0</td>\n",
       "      <td>0</td>\n",
       "      <td>&lt;NA&gt;</td>\n",
       "      <td>&lt;NA&gt;</td>\n",
       "    </tr>\n",
       "    <tr>\n",
       "      <th>25</th>\n",
       "      <td>2035842</td>\n",
       "      <td>1</td>\n",
       "      <td>2058451</td>\n",
       "      <td>2010-01-10 02:31:54.813000</td>\n",
       "      <td>1</td>\n",
       "      <td>748</td>\n",
       "      <td>&lt;p&gt;I'm using Python 2.6 against OpenCV 2.0.  I...</td>\n",
       "      <td>229764</td>\n",
       "      <td>&lt;NA&gt;</td>\n",
       "      <td>0</td>\n",
       "      <td>...</td>\n",
       "      <td>2011-01-26 08:54:19.400000</td>\n",
       "      <td>Why does this use of Smooth cause Python to cr...</td>\n",
       "      <td>|python|opencv|</td>\n",
       "      <td>3</td>\n",
       "      <td>4</td>\n",
       "      <td>0</td>\n",
       "      <td>CC BY-SA 2.5</td>\n",
       "      <td>0</td>\n",
       "      <td>&lt;NA&gt;</td>\n",
       "      <td>&lt;NA&gt;</td>\n",
       "    </tr>\n",
       "    <tr>\n",
       "      <th>209</th>\n",
       "      <td>11040631</td>\n",
       "      <td>1</td>\n",
       "      <td>11040852</td>\n",
       "      <td>2012-06-14 20:09:58.157000</td>\n",
       "      <td>2</td>\n",
       "      <td>1771</td>\n",
       "      <td>&lt;p&gt;I have a function &lt;strong&gt;is_prime(n)&lt;/stro...</td>\n",
       "      <td>1338403</td>\n",
       "      <td>&lt;NA&gt;</td>\n",
       "      <td>0</td>\n",
       "      <td>...</td>\n",
       "      <td>2015-01-22 19:10:40.957000</td>\n",
       "      <td>Memoize a NumPy vectorized function</td>\n",
       "      <td>|python|numpy|</td>\n",
       "      <td>1</td>\n",
       "      <td>0</td>\n",
       "      <td>0</td>\n",
       "      <td>CC BY-SA 3.0</td>\n",
       "      <td>0</td>\n",
       "      <td>&lt;NA&gt;</td>\n",
       "      <td>&lt;NA&gt;</td>\n",
       "    </tr>\n",
       "    <tr>\n",
       "      <th>211</th>\n",
       "      <td>3228591</td>\n",
       "      <td>1</td>\n",
       "      <td>3228626</td>\n",
       "      <td>2010-07-12 12:43:56.960000</td>\n",
       "      <td>14</td>\n",
       "      <td>4442</td>\n",
       "      <td>&lt;p&gt;I would like to know the best practice abou...</td>\n",
       "      <td>135010</td>\n",
       "      <td>&lt;NA&gt;</td>\n",
       "      <td>0</td>\n",
       "      <td>...</td>\n",
       "      <td>2015-12-09 12:07:48.213000</td>\n",
       "      <td>Python, rasing an exception without arguments</td>\n",
       "      <td>|python|exception|arguments|raise|</td>\n",
       "      <td>3</td>\n",
       "      <td>0</td>\n",
       "      <td>0</td>\n",
       "      <td>CC BY-SA 2.5</td>\n",
       "      <td>0</td>\n",
       "      <td>&lt;NA&gt;</td>\n",
       "      <td>&lt;NA&gt;</td>\n",
       "    </tr>\n",
       "    <tr>\n",
       "      <th>242</th>\n",
       "      <td>10614068</td>\n",
       "      <td>1</td>\n",
       "      <td>0</td>\n",
       "      <td>2012-05-16 07:42:10.827000</td>\n",
       "      <td>15</td>\n",
       "      <td>6153</td>\n",
       "      <td>&lt;p&gt;Im looking for a game or challenge which is...</td>\n",
       "      <td>55800</td>\n",
       "      <td>&lt;NA&gt;</td>\n",
       "      <td>1240268</td>\n",
       "      <td>...</td>\n",
       "      <td>2012-12-10 01:09:07.540000</td>\n",
       "      <td>Is threre a RoboCode like Game or Challenge fo...</td>\n",
       "      <td>|python|robocode|</td>\n",
       "      <td>2</td>\n",
       "      <td>1</td>\n",
       "      <td>0</td>\n",
       "      <td>CC BY-SA 3.0</td>\n",
       "      <td>0</td>\n",
       "      <td>&lt;NA&gt;</td>\n",
       "      <td>2012-12-10 03:37:55.900000</td>\n",
       "    </tr>\n",
       "    <tr>\n",
       "      <th>268</th>\n",
       "      <td>9005117</td>\n",
       "      <td>1</td>\n",
       "      <td>9005228</td>\n",
       "      <td>2012-01-25 15:19:57.210000</td>\n",
       "      <td>1</td>\n",
       "      <td>2653</td>\n",
       "      <td>&lt;p&gt;Please be so kind to point me on how can a ...</td>\n",
       "      <td>1166912</td>\n",
       "      <td>&lt;NA&gt;</td>\n",
       "      <td>0</td>\n",
       "      <td>...</td>\n",
       "      <td>2012-01-25 15:43:46.393000</td>\n",
       "      <td>How can processes share list between each othe...</td>\n",
       "      <td>|python|multiprocessing|</td>\n",
       "      <td>3</td>\n",
       "      <td>0</td>\n",
       "      <td>0</td>\n",
       "      <td>CC BY-SA 3.0</td>\n",
       "      <td>0</td>\n",
       "      <td>&lt;NA&gt;</td>\n",
       "      <td>&lt;NA&gt;</td>\n",
       "    </tr>\n",
       "    <tr>\n",
       "      <th>348</th>\n",
       "      <td>6126628</td>\n",
       "      <td>1</td>\n",
       "      <td>6126815</td>\n",
       "      <td>2011-05-25 15:05:23.757000</td>\n",
       "      <td>2</td>\n",
       "      <td>992</td>\n",
       "      <td>&lt;p&gt;I have a file:&lt;/p&gt;\\n&lt;pre class=\"lang-none p...</td>\n",
       "      <td>15055</td>\n",
       "      <td>&lt;NA&gt;</td>\n",
       "      <td>63550</td>\n",
       "      <td>...</td>\n",
       "      <td>2023-10-30 22:23:55.830000</td>\n",
       "      <td>Python relative import weirdness</td>\n",
       "      <td>|python|import|</td>\n",
       "      <td>1</td>\n",
       "      <td>1</td>\n",
       "      <td>0</td>\n",
       "      <td>CC BY-SA 4.0</td>\n",
       "      <td>0</td>\n",
       "      <td>&lt;NA&gt;</td>\n",
       "      <td>&lt;NA&gt;</td>\n",
       "    </tr>\n",
       "    <tr>\n",
       "      <th>387</th>\n",
       "      <td>3575200</td>\n",
       "      <td>1</td>\n",
       "      <td>0</td>\n",
       "      <td>2010-08-26 12:53:18.543000</td>\n",
       "      <td>0</td>\n",
       "      <td>220</td>\n",
       "      <td>&lt;p&gt;I'm using twisted with GTK, and the followi...</td>\n",
       "      <td>15055</td>\n",
       "      <td>&lt;NA&gt;</td>\n",
       "      <td>0</td>\n",
       "      <td>...</td>\n",
       "      <td>2010-08-26 13:06:33.823000</td>\n",
       "      <td>python+twisted+gtk: KeyboardInterrupt causes f...</td>\n",
       "      <td>|python|variables|gtk|scope|twisted|</td>\n",
       "      <td>1</td>\n",
       "      <td>4</td>\n",
       "      <td>0</td>\n",
       "      <td>CC BY-SA 2.5</td>\n",
       "      <td>0</td>\n",
       "      <td>&lt;NA&gt;</td>\n",
       "      <td>&lt;NA&gt;</td>\n",
       "    </tr>\n",
       "    <tr>\n",
       "      <th>429</th>\n",
       "      <td>8182124</td>\n",
       "      <td>1</td>\n",
       "      <td>0</td>\n",
       "      <td>2011-11-18 12:04:30.440000</td>\n",
       "      <td>8</td>\n",
       "      <td>3992</td>\n",
       "      <td>&lt;p&gt;I have a plot in matplotlib,and my problem ...</td>\n",
       "      <td>896317</td>\n",
       "      <td>&lt;NA&gt;</td>\n",
       "      <td>2666859</td>\n",
       "      <td>...</td>\n",
       "      <td>2016-07-26 10:53:21.010000</td>\n",
       "      <td>How do I autosize text in matplotlib python?</td>\n",
       "      <td>|python|matplotlib|</td>\n",
       "      <td>1</td>\n",
       "      <td>0</td>\n",
       "      <td>0</td>\n",
       "      <td>CC BY-SA 3.0</td>\n",
       "      <td>0</td>\n",
       "      <td>&lt;NA&gt;</td>\n",
       "      <td>&lt;NA&gt;</td>\n",
       "    </tr>\n",
       "  </tbody>\n",
       "</table>\n",
       "<p>10 rows × 22 columns</p>\n",
       "</div>[10 rows x 22 columns in total]"
      ],
      "text/plain": [
       "           Id  PostTypeId  AcceptedAnswerId                CreationDate  \\\n",
       "9    11545577           1          11550187  2012-07-18 16:03:12.460000   \n",
       "23   11617619           1                 0  2012-07-23 17:40:39.190000   \n",
       "25    2035842           1           2058451  2010-01-10 02:31:54.813000   \n",
       "209  11040631           1          11040852  2012-06-14 20:09:58.157000   \n",
       "211   3228591           1           3228626  2010-07-12 12:43:56.960000   \n",
       "242  10614068           1                 0  2012-05-16 07:42:10.827000   \n",
       "268   9005117           1           9005228  2012-01-25 15:19:57.210000   \n",
       "348   6126628           1           6126815  2011-05-25 15:05:23.757000   \n",
       "387   3575200           1                 0  2010-08-26 12:53:18.543000   \n",
       "429   8182124           1                 0  2011-11-18 12:04:30.440000   \n",
       "\n",
       "     Score  ViewCount                                               Body  \\\n",
       "9        1       1895  <p>When I run ./manage.py, I get the following...   \n",
       "23      18       5840  <p>I'm writing an app in Python and I need to ...   \n",
       "25       1        748  <p>I'm using Python 2.6 against OpenCV 2.0.  I...   \n",
       "209      2       1771  <p>I have a function <strong>is_prime(n)</stro...   \n",
       "211     14       4442  <p>I would like to know the best practice abou...   \n",
       "242     15       6153  <p>Im looking for a game or challenge which is...   \n",
       "268      1       2653  <p>Please be so kind to point me on how can a ...   \n",
       "348      2        992  <p>I have a file:</p>\\n<pre class=\"lang-none p...   \n",
       "387      0        220  <p>I'm using twisted with GTK, and the followi...   \n",
       "429      8       3992  <p>I have a plot in matplotlib,and my problem ...   \n",
       "\n",
       "     OwnerUserId OwnerDisplayName  LastEditorUserId  ...  \\\n",
       "9        1425711             <NA>                 0  ...   \n",
       "23        595990             <NA>           2073595  ...   \n",
       "25        229764             <NA>                 0  ...   \n",
       "209      1338403             <NA>                 0  ...   \n",
       "211       135010             <NA>                 0  ...   \n",
       "242        55800             <NA>           1240268  ...   \n",
       "268      1166912             <NA>                 0  ...   \n",
       "348        15055             <NA>             63550  ...   \n",
       "387        15055             <NA>                 0  ...   \n",
       "429       896317             <NA>           2666859  ...   \n",
       "\n",
       "               LastActivityDate  \\\n",
       "9    2012-07-18 20:54:41.497000   \n",
       "23   2014-07-24 14:59:28.143000   \n",
       "25   2011-01-26 08:54:19.400000   \n",
       "209  2015-01-22 19:10:40.957000   \n",
       "211  2015-12-09 12:07:48.213000   \n",
       "242  2012-12-10 01:09:07.540000   \n",
       "268  2012-01-25 15:43:46.393000   \n",
       "348  2023-10-30 22:23:55.830000   \n",
       "387  2010-08-26 13:06:33.823000   \n",
       "429  2016-07-26 10:53:21.010000   \n",
       "\n",
       "                                                 Title  \\\n",
       "9             Python path setting error with manage.py   \n",
       "23   What are the advantages of concurrent.futures ...   \n",
       "25   Why does this use of Smooth cause Python to cr...   \n",
       "209                Memoize a NumPy vectorized function   \n",
       "211      Python, rasing an exception without arguments   \n",
       "242  Is threre a RoboCode like Game or Challenge fo...   \n",
       "268  How can processes share list between each othe...   \n",
       "348                   Python relative import weirdness   \n",
       "387  python+twisted+gtk: KeyboardInterrupt causes f...   \n",
       "429       How do I autosize text in matplotlib python?   \n",
       "\n",
       "                                                  Tags AnswerCount  \\\n",
       "9                                      |python|django|           1   \n",
       "23   |python|multithreading|multiprocessing|concurr...           1   \n",
       "25                                     |python|opencv|           3   \n",
       "209                                     |python|numpy|           1   \n",
       "211                 |python|exception|arguments|raise|           3   \n",
       "242                                  |python|robocode|           2   \n",
       "268                           |python|multiprocessing|           3   \n",
       "348                                    |python|import|           1   \n",
       "387               |python|variables|gtk|scope|twisted|           1   \n",
       "429                                |python|matplotlib|           1   \n",
       "\n",
       "    CommentCount  FavoriteCount  ContentLicense  ParentId CommunityOwnedDate  \\\n",
       "9              6              0    CC BY-SA 3.0         0               <NA>   \n",
       "23             1              0    CC BY-SA 3.0         0               <NA>   \n",
       "25             4              0    CC BY-SA 2.5         0               <NA>   \n",
       "209            0              0    CC BY-SA 3.0         0               <NA>   \n",
       "211            0              0    CC BY-SA 2.5         0               <NA>   \n",
       "242            1              0    CC BY-SA 3.0         0               <NA>   \n",
       "268            0              0    CC BY-SA 3.0         0               <NA>   \n",
       "348            1              0    CC BY-SA 4.0         0               <NA>   \n",
       "387            4              0    CC BY-SA 2.5         0               <NA>   \n",
       "429            0              0    CC BY-SA 3.0         0               <NA>   \n",
       "\n",
       "                     ClosedDate  \n",
       "9                          <NA>  \n",
       "23                         <NA>  \n",
       "25                         <NA>  \n",
       "209                        <NA>  \n",
       "211                        <NA>  \n",
       "242  2012-12-10 03:37:55.900000  \n",
       "268                        <NA>  \n",
       "348                        <NA>  \n",
       "387                        <NA>  \n",
       "429                        <NA>  \n",
       "\n",
       "[10 rows x 22 columns]"
      ]
     },
     "execution_count": 8,
     "metadata": {},
     "output_type": "execute_result"
    }
   ],
   "source": [
    "# first 10 posts with the tag 'python'\n",
    "python_posts = df[df[\"Tags\"].str.contains(\"python\")]\n",
    "python_posts.head(10)"
   ]
  },
  {
   "cell_type": "code",
   "execution_count": 12,
   "metadata": {},
   "outputs": [
    {
     "data": {
      "text/html": [
       "Query job 3009ef27-cc41-466a-b0a4-93de03f8a329 is DONE. 174.0 MB processed. <a target=\"_blank\" href=\"https://console.cloud.google.com/bigquery?project=social-computing-436902&j=bq:US:3009ef27-cc41-466a-b0a4-93de03f8a329&page=queryresults\">Open Job</a>"
      ],
      "text/plain": [
       "<IPython.core.display.HTML object>"
      ]
     },
     "metadata": {},
     "output_type": "display_data"
    },
    {
     "data": {
      "text/html": [
       "Query job 7b1fd296-369a-475c-89b3-da84d6662d1b is DONE. 93.6 MB processed. <a target=\"_blank\" href=\"https://console.cloud.google.com/bigquery?project=social-computing-436902&j=bq:US:7b1fd296-369a-475c-89b3-da84d6662d1b&page=queryresults\">Open Job</a>"
      ],
      "text/plain": [
       "<IPython.core.display.HTML object>"
      ]
     },
     "metadata": {},
     "output_type": "display_data"
    },
    {
     "data": {
      "text/plain": [
       "np.float64(73.94509545029433)"
      ]
     },
     "execution_count": 12,
     "metadata": {},
     "output_type": "execute_result"
    }
   ],
   "source": [
    "# % of python posts with accepted answers\n",
    "(python_posts[\"AcceptedAnswerId\"] != 0).sum() / python_posts.shape[0] * 100"
   ]
  },
  {
   "cell_type": "code",
   "execution_count": 6,
   "metadata": {},
   "outputs": [
    {
     "name": "stdout",
     "output_type": "stream",
     "text": [
      "Total number of posts = 55,010,000\n"
     ]
    }
   ],
   "source": [
    "number_of_posts = df.shape[0]\n",
    "print(f\"Total number of posts = {number_of_posts:,}\")"
   ]
  },
  {
   "cell_type": "code",
   "execution_count": 18,
   "metadata": {},
   "outputs": [],
   "source": [
    "bpd.close_session()"
   ]
  }
 ],
 "metadata": {
  "kernelspec": {
   "display_name": "stackoverflow_analysis-1iOcKwg9",
   "language": "python",
   "name": "python3"
  },
  "language_info": {
   "codemirror_mode": {
    "name": "ipython",
    "version": 3
   },
   "file_extension": ".py",
   "mimetype": "text/x-python",
   "name": "python",
   "nbconvert_exporter": "python",
   "pygments_lexer": "ipython3",
   "version": "3.10.14"
  }
 },
 "nbformat": 4,
 "nbformat_minor": 2
}
