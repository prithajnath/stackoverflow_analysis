{
 "cells": [
  {
   "cell_type": "code",
   "execution_count": 1,
   "metadata": {},
   "outputs": [],
   "source": [
    "import bigframes.pandas as bpd"
   ]
  },
  {
   "cell_type": "code",
   "execution_count": 2,
   "metadata": {},
   "outputs": [
    {
     "name": "stderr",
     "output_type": "stream",
     "text": [
      "/tmp/ipykernel_52004/3391409201.py:2: UnknownLocationWarning: The location 'us' is set to an unknown value. Did you mean 'EU'?\n",
      "  bpd.options.bigquery.location = \"us\"\n"
     ]
    }
   ],
   "source": [
    "bpd.options.bigquery.project = \"social-computing-436902\"\n",
    "bpd.options.bigquery.location = \"US\"\n",
    "\n",
    "# tables\n",
    "posts_table = \"stackexchange.stackoverflow_posts\"\n",
    "df = bpd.read_gbq(posts_table)"
   ]
  },
  {
   "cell_type": "code",
   "execution_count": 3,
   "metadata": {},
   "outputs": [
    {
     "data": {
      "text/html": [
       "Query job 61d9867b-9e4c-492c-8bdb-aac49fbbd00a is DONE. 9.8 GB processed. <a target=\"_blank\" href=\"https://console.cloud.google.com/bigquery?project=social-computing-436902&j=bq:US:61d9867b-9e4c-492c-8bdb-aac49fbbd00a&page=queryresults\">Open Job</a>"
      ],
      "text/plain": [
       "<IPython.core.display.HTML object>"
      ]
     },
     "metadata": {},
     "output_type": "display_data"
    },
    {
     "data": {
      "text/html": [
       "Query job 27562b42-f437-4a91-8982-07b929f5d841 is DONE. 3.4 kB processed. <a target=\"_blank\" href=\"https://console.cloud.google.com/bigquery?project=social-computing-436902&j=bq:US:27562b42-f437-4a91-8982-07b929f5d841&page=queryresults\">Open Job</a>"
      ],
      "text/plain": [
       "<IPython.core.display.HTML object>"
      ]
     },
     "metadata": {},
     "output_type": "display_data"
    },
    {
     "data": {
      "text/html": [
       "Query job 72d937bc-a285-4133-bfd1-407e61c2344c is DONE. 3.4 kB processed. <a target=\"_blank\" href=\"https://console.cloud.google.com/bigquery?project=social-computing-436902&j=bq:US:72d937bc-a285-4133-bfd1-407e61c2344c&page=queryresults\">Open Job</a>"
      ],
      "text/plain": [
       "<IPython.core.display.HTML object>"
      ]
     },
     "metadata": {},
     "output_type": "display_data"
    },
    {
     "data": {
      "text/html": [
       "<div>\n",
       "<style scoped>\n",
       "    .dataframe tbody tr th:only-of-type {\n",
       "        vertical-align: middle;\n",
       "    }\n",
       "\n",
       "    .dataframe tbody tr th {\n",
       "        vertical-align: top;\n",
       "    }\n",
       "\n",
       "    .dataframe thead th {\n",
       "        text-align: right;\n",
       "    }\n",
       "</style>\n",
       "<table border=\"1\" class=\"dataframe\">\n",
       "  <thead>\n",
       "    <tr style=\"text-align: right;\">\n",
       "      <th></th>\n",
       "      <th>Id</th>\n",
       "      <th>PostTypeId</th>\n",
       "      <th>AcceptedAnswerId</th>\n",
       "      <th>CreationDate</th>\n",
       "      <th>Score</th>\n",
       "      <th>ViewCount</th>\n",
       "      <th>Body</th>\n",
       "      <th>OwnerUserId</th>\n",
       "      <th>OwnerDisplayName</th>\n",
       "      <th>LastEditorUserId</th>\n",
       "      <th>...</th>\n",
       "      <th>LastActivityDate</th>\n",
       "      <th>Title</th>\n",
       "      <th>Tags</th>\n",
       "      <th>AnswerCount</th>\n",
       "      <th>CommentCount</th>\n",
       "      <th>FavoriteCount</th>\n",
       "      <th>ContentLicense</th>\n",
       "      <th>ParentId</th>\n",
       "      <th>CommunityOwnedDate</th>\n",
       "      <th>ClosedDate</th>\n",
       "    </tr>\n",
       "  </thead>\n",
       "  <tbody>\n",
       "    <tr>\n",
       "      <th>0</th>\n",
       "      <td>3646651</td>\n",
       "      <td>1</td>\n",
       "      <td>0</td>\n",
       "      <td>2010-09-05 15:49:20.450000</td>\n",
       "      <td>2</td>\n",
       "      <td>715</td>\n",
       "      <td>&lt;p&gt;I was reading a book and it talks about a &lt;...</td>\n",
       "      <td>325418</td>\n",
       "      <td>&lt;NA&gt;</td>\n",
       "      <td>325418</td>\n",
       "      <td>...</td>\n",
       "      <td>2010-09-05 18:24:22.597000</td>\n",
       "      <td>In RDBMS, when a relation is one-to-one, does ...</td>\n",
       "      <td>|sql|ruby-on-rails|rdbms|relational-database|o...</td>\n",
       "      <td>4</td>\n",
       "      <td>0</td>\n",
       "      <td>0</td>\n",
       "      <td>CC BY-SA 2.5</td>\n",
       "      <td>0</td>\n",
       "      <td>&lt;NA&gt;</td>\n",
       "      <td>&lt;NA&gt;</td>\n",
       "    </tr>\n",
       "    <tr>\n",
       "      <th>1</th>\n",
       "      <td>9899171</td>\n",
       "      <td>2</td>\n",
       "      <td>0</td>\n",
       "      <td>2012-03-27 23:30:50.783000</td>\n",
       "      <td>1</td>\n",
       "      <td>0</td>\n",
       "      <td>&lt;p&gt;If you need to add the jdk to your system p...</td>\n",
       "      <td>1219955</td>\n",
       "      <td>&lt;NA&gt;</td>\n",
       "      <td>0</td>\n",
       "      <td>...</td>\n",
       "      <td>2012-03-27 23:30:50.783000</td>\n",
       "      <td>&lt;NA&gt;</td>\n",
       "      <td>&lt;NA&gt;</td>\n",
       "      <td>0</td>\n",
       "      <td>2</td>\n",
       "      <td>0</td>\n",
       "      <td>CC BY-SA 3.0</td>\n",
       "      <td>9899100</td>\n",
       "      <td>&lt;NA&gt;</td>\n",
       "      <td>&lt;NA&gt;</td>\n",
       "    </tr>\n",
       "    <tr>\n",
       "      <th>2</th>\n",
       "      <td>12118199</td>\n",
       "      <td>2</td>\n",
       "      <td>0</td>\n",
       "      <td>2012-08-25 00:26:01.870000</td>\n",
       "      <td>0</td>\n",
       "      <td>0</td>\n",
       "      <td>&lt;p&gt;Couple of thing to watch out for: &lt;/p&gt;\\n\\n&lt;...</td>\n",
       "      <td>1171790</td>\n",
       "      <td>&lt;NA&gt;</td>\n",
       "      <td>0</td>\n",
       "      <td>...</td>\n",
       "      <td>2012-08-25 00:26:01.870000</td>\n",
       "      <td>&lt;NA&gt;</td>\n",
       "      <td>&lt;NA&gt;</td>\n",
       "      <td>0</td>\n",
       "      <td>3</td>\n",
       "      <td>0</td>\n",
       "      <td>CC BY-SA 3.0</td>\n",
       "      <td>12118134</td>\n",
       "      <td>&lt;NA&gt;</td>\n",
       "      <td>&lt;NA&gt;</td>\n",
       "    </tr>\n",
       "    <tr>\n",
       "      <th>3</th>\n",
       "      <td>4947000</td>\n",
       "      <td>2</td>\n",
       "      <td>0</td>\n",
       "      <td>2011-02-09 15:35:48.047000</td>\n",
       "      <td>4</td>\n",
       "      <td>0</td>\n",
       "      <td>&lt;p&gt;If using &lt;code&gt;java.net.HttpURLConnection&lt;/...</td>\n",
       "      <td>96224</td>\n",
       "      <td>&lt;NA&gt;</td>\n",
       "      <td>0</td>\n",
       "      <td>...</td>\n",
       "      <td>2011-02-09 15:35:48.047000</td>\n",
       "      <td>&lt;NA&gt;</td>\n",
       "      <td>&lt;NA&gt;</td>\n",
       "      <td>0</td>\n",
       "      <td>0</td>\n",
       "      <td>0</td>\n",
       "      <td>CC BY-SA 2.5</td>\n",
       "      <td>4946598</td>\n",
       "      <td>&lt;NA&gt;</td>\n",
       "      <td>&lt;NA&gt;</td>\n",
       "    </tr>\n",
       "    <tr>\n",
       "      <th>4</th>\n",
       "      <td>381940</td>\n",
       "      <td>2</td>\n",
       "      <td>0</td>\n",
       "      <td>2008-12-19 19:24:12.903000</td>\n",
       "      <td>-1</td>\n",
       "      <td>0</td>\n",
       "      <td>&lt;p&gt;It looks to me like it is a problem with ho...</td>\n",
       "      <td>14101</td>\n",
       "      <td>skbergam</td>\n",
       "      <td>0</td>\n",
       "      <td>...</td>\n",
       "      <td>2008-12-19 19:24:12.903000</td>\n",
       "      <td>&lt;NA&gt;</td>\n",
       "      <td>&lt;NA&gt;</td>\n",
       "      <td>0</td>\n",
       "      <td>0</td>\n",
       "      <td>0</td>\n",
       "      <td>CC BY-SA 2.5</td>\n",
       "      <td>381918</td>\n",
       "      <td>&lt;NA&gt;</td>\n",
       "      <td>&lt;NA&gt;</td>\n",
       "    </tr>\n",
       "  </tbody>\n",
       "</table>\n",
       "<p>5 rows × 22 columns</p>\n",
       "</div>[5 rows x 22 columns in total]"
      ],
      "text/plain": [
       "         Id  PostTypeId  AcceptedAnswerId                CreationDate  Score  \\\n",
       "0   3646651           1                 0  2010-09-05 15:49:20.450000      2   \n",
       "1   9899171           2                 0  2012-03-27 23:30:50.783000      1   \n",
       "2  12118199           2                 0  2012-08-25 00:26:01.870000      0   \n",
       "3   4947000           2                 0  2011-02-09 15:35:48.047000      4   \n",
       "4    381940           2                 0  2008-12-19 19:24:12.903000     -1   \n",
       "\n",
       "   ViewCount                                               Body  OwnerUserId  \\\n",
       "0        715  <p>I was reading a book and it talks about a <...       325418   \n",
       "1          0  <p>If you need to add the jdk to your system p...      1219955   \n",
       "2          0  <p>Couple of thing to watch out for: </p>\\n\\n<...      1171790   \n",
       "3          0  <p>If using <code>java.net.HttpURLConnection</...        96224   \n",
       "4          0  <p>It looks to me like it is a problem with ho...        14101   \n",
       "\n",
       "  OwnerDisplayName  LastEditorUserId  ...            LastActivityDate  \\\n",
       "0             <NA>            325418  ...  2010-09-05 18:24:22.597000   \n",
       "1             <NA>                 0  ...  2012-03-27 23:30:50.783000   \n",
       "2             <NA>                 0  ...  2012-08-25 00:26:01.870000   \n",
       "3             <NA>                 0  ...  2011-02-09 15:35:48.047000   \n",
       "4         skbergam                 0  ...  2008-12-19 19:24:12.903000   \n",
       "\n",
       "                                               Title  \\\n",
       "0  In RDBMS, when a relation is one-to-one, does ...   \n",
       "1                                               <NA>   \n",
       "2                                               <NA>   \n",
       "3                                               <NA>   \n",
       "4                                               <NA>   \n",
       "\n",
       "                                                Tags AnswerCount CommentCount  \\\n",
       "0  |sql|ruby-on-rails|rdbms|relational-database|o...           4            0   \n",
       "1                                               <NA>           0            2   \n",
       "2                                               <NA>           0            3   \n",
       "3                                               <NA>           0            0   \n",
       "4                                               <NA>           0            0   \n",
       "\n",
       "   FavoriteCount  ContentLicense  ParentId CommunityOwnedDate  ClosedDate  \n",
       "0              0    CC BY-SA 2.5         0               <NA>        <NA>  \n",
       "1              0    CC BY-SA 3.0   9899100               <NA>        <NA>  \n",
       "2              0    CC BY-SA 3.0  12118134               <NA>        <NA>  \n",
       "3              0    CC BY-SA 2.5   4946598               <NA>        <NA>  \n",
       "4              0    CC BY-SA 2.5    381918               <NA>        <NA>  \n",
       "\n",
       "[5 rows x 22 columns]"
      ]
     },
     "execution_count": 3,
     "metadata": {},
     "output_type": "execute_result"
    }
   ],
   "source": [
    "df.head()"
   ]
  },
  {
   "cell_type": "code",
   "execution_count": 4,
   "metadata": {},
   "outputs": [
    {
     "data": {
      "text/html": [
       "Query job b7603826-1535-4b84-b7a2-33dbd8198767 is DONE. 80.4 MB processed. <a target=\"_blank\" href=\"https://console.cloud.google.com/bigquery?project=social-computing-436902&j=bq:US:b7603826-1535-4b84-b7a2-33dbd8198767&page=queryresults\">Open Job</a>"
      ],
      "text/plain": [
       "<IPython.core.display.HTML object>"
      ]
     },
     "metadata": {},
     "output_type": "display_data"
    },
    {
     "data": {
      "text/plain": [
       "np.float64(6.55135951812027)"
      ]
     },
     "execution_count": 4,
     "metadata": {},
     "output_type": "execute_result"
    }
   ],
   "source": [
    "df[\"Score\"].mean()"
   ]
  }
 ],
 "metadata": {
  "kernelspec": {
   "display_name": "stackoverflow_analysis-1iOcKwg9",
   "language": "python",
   "name": "python3"
  },
  "language_info": {
   "codemirror_mode": {
    "name": "ipython",
    "version": 3
   },
   "file_extension": ".py",
   "mimetype": "text/x-python",
   "name": "python",
   "nbconvert_exporter": "python",
   "pygments_lexer": "ipython3",
   "version": "3.10.12"
  }
 },
 "nbformat": 4,
 "nbformat_minor": 2
}
